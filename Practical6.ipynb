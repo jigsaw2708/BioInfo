{
  "nbformat": 4,
  "nbformat_minor": 0,
  "metadata": {
    "colab": {
      "name": "Practical6.ipynb",
      "provenance": [],
      "authorship_tag": "ABX9TyMs53jqFVGhZmgk7vxK+QJT",
      "include_colab_link": true
    },
    "kernelspec": {
      "name": "python3",
      "display_name": "Python 3"
    },
    "language_info": {
      "name": "python"
    }
  },
  "cells": [
    {
      "cell_type": "markdown",
      "metadata": {
        "id": "view-in-github",
        "colab_type": "text"
      },
      "source": [
        "<a href=\"https://colab.research.google.com/github/jigsaw2708/BioInfo/blob/main/Practical6.ipynb\" target=\"_parent\"><img src=\"https://colab.research.google.com/assets/colab-badge.svg\" alt=\"Open In Colab\"/></a>"
      ]
    },
    {
      "cell_type": "code",
      "metadata": {
        "colab": {
          "base_uri": "https://localhost:8080/"
        },
        "id": "UnL-Siedbmc8",
        "outputId": "f1801299-5cd2-41f4-a84a-6e67f77aa04f"
      },
      "source": [
        "import random\n",
        "l=int(input(\"Enter the length of motif\"))\n",
        "file=open(\"mot.txt\",\"r\")\n",
        "r=file.read()\n",
        "print(\"Sequence\",r)\n",
        "size=len(r)\n",
        "print(\"Size of the sequence\",size)\n",
        "pos=random.randint(0,len(r)-5)\n",
        "#pos=1\n",
        "print(\"Position\",pos)\n",
        "motif=r[pos:pos+l]\n",
        "print(\"Motif\",motif)\n",
        "i=pos+1\n",
        "while(i<=size-1):\n",
        "  if(motif==r[i:i+1]):\n",
        "    str1=r[i:i+1]\n",
        "    print(\"Match motif\",str1)\n",
        "    file1=open(\"motoutput.txt\",\"a\")\n",
        "    file1.write(str1+\" \")\n",
        "  i+=1 \n"
      ],
      "execution_count": 5,
      "outputs": [
        {
          "output_type": "stream",
          "name": "stdout",
          "text": [
            "Enter the length of motif4\n",
            "Sequence CCTCACCAACTTCAGCAACTTCTCTAGGGCCAACTTCCAACTTCTCAACTTCTCAACTTCCAACTTCCGACAACTTCTCCTGGCAACTTCCAACTTCCAACTTCAATACAACTTCGCAGAC\n",
            "\n",
            "Size of the sequence 122\n",
            "Position 113\n",
            "Motif TCGC\n"
          ]
        }
      ]
    }
  ]
}