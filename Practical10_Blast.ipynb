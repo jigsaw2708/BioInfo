{
  "nbformat": 4,
  "nbformat_minor": 0,
  "metadata": {
    "colab": {
      "name": "Practical10 Blast.ipynb",
      "provenance": [],
      "authorship_tag": "ABX9TyMIsDrtxnOzO5DLI44Xt4lv",
      "include_colab_link": true
    },
    "kernelspec": {
      "name": "python3",
      "display_name": "Python 3"
    },
    "language_info": {
      "name": "python"
    }
  },
  "cells": [
    {
      "cell_type": "markdown",
      "metadata": {
        "id": "view-in-github",
        "colab_type": "text"
      },
      "source": [
        "<a href=\"https://colab.research.google.com/github/jigsaw2708/BioInfo/blob/main/Practical10_Blast.ipynb\" target=\"_parent\"><img src=\"https://colab.research.google.com/assets/colab-badge.svg\" alt=\"Open In Colab\"/></a>"
      ]
    },
    {
      "cell_type": "code",
      "execution_count": 1,
      "metadata": {
        "colab": {
          "base_uri": "https://localhost:8080/"
        },
        "id": "nsF1hZDrMsPJ",
        "outputId": "7d596455-22cd-42f4-d70f-96d8c232470d"
      },
      "outputs": [
        {
          "output_type": "stream",
          "name": "stdout",
          "text": [
            "Score of A is->1139\n",
            "Score of T is->1487\n",
            "Score of G is->810\n",
            "Score of C is->656\n"
          ]
        }
      ],
      "source": [
        "# import re\n",
        "with open('Fasta.txt', 'r') as file:  # OC43 - Coronavirus\n",
        "    # seq=re.sub('\\n','',file.read())   #Removing all new lines from string\n",
        "    # print(seq)\n",
        "    seq = file.read()\n",
        "    print(f\"Score of A is->{seq.count('A')}\\nScore of T is->{seq.count('T')}\\nScore of G is->{seq.count('G')}\\nScore of C is->{seq.count('C')}\")"
      ]
    }
  ]
}