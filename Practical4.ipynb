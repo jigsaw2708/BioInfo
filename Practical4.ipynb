{
  "nbformat": 4,
  "nbformat_minor": 0,
  "metadata": {
    "colab": {
      "name": "Practical4.ipynb",
      "provenance": [],
      "authorship_tag": "ABX9TyMnMqDUrQQ6I+bVcJxTl0K0",
      "include_colab_link": true
    },
    "kernelspec": {
      "name": "python3",
      "display_name": "Python 3"
    },
    "language_info": {
      "name": "python"
    }
  },
  "cells": [
    {
      "cell_type": "markdown",
      "metadata": {
        "id": "view-in-github",
        "colab_type": "text"
      },
      "source": [
        "<a href=\"https://colab.research.google.com/github/jigsaw2708/BioInfo/blob/main/Practical4.ipynb\" target=\"_parent\"><img src=\"https://colab.research.google.com/assets/colab-badge.svg\" alt=\"Open In Colab\"/></a>"
      ]
    },
    {
      "cell_type": "code",
      "metadata": {
        "colab": {
          "base_uri": "https://localhost:8080/"
        },
        "id": "eIyjFM1XJUT8",
        "outputId": "47f3eea9-1c76-4175-a655-9854798710c3"
      },
      "source": [
        "import random\n",
        "\n",
        "\n",
        "class MultipleSeq:\n",
        "    def __init__(self):\n",
        "        try:\n",
        "            howmany = int(input(\"How many number of sequence do you want (Enter Integer values) : \"))\n",
        "        except Exception as e:\n",
        "            print('\\n\\nError : ', e)\n",
        "        self.sequenceList = []\n",
        "        self.length = []\n",
        "        for i in range(1, howmany + 1):\n",
        "            seq = input(f'Enter sequence {i} : ').upper()  # Example : 'AOSLIE'\n",
        "            self.length.append(len(seq))\n",
        "            self.sequenceList.append([i for i in seq])\n",
        "\n",
        "    def gap(self):  # Insert gap\n",
        "        maxlength = max(self.length)\n",
        "        aftergapseq = []\n",
        "        for i in self.sequenceList:\n",
        "            if len(i) < maxlength:\n",
        "                difflength = maxlength - len(i)\n",
        "                for gapper in range(difflength):\n",
        "                    r = random.randrange(0, len(i), 1)\n",
        "                    i.insert(r, '-')\n",
        "                aftergapseq.append(i)\n",
        "            else:\n",
        "                aftergapseq.append(i)\n",
        "        print(\"After inserting gaps : \\n\", aftergapseq)\n",
        "        return aftergapseq\n",
        "\n",
        "    def multipleSequenceAlignment(self):\n",
        "        sequence = self.gap()\n",
        "        seq = []\n",
        "        for i in range(len(sequence[0])):\n",
        "            innerseq = []\n",
        "            for j in sequence:\n",
        "                innerseq.append(j[i])\n",
        "            seq.append(innerseq)\n",
        "        print(\"\\nMultiple Sequence Calculation\\n\", seq)\n",
        "        resulter = []\n",
        "        maxer = []\n",
        "        for i in seq:\n",
        "            innerresult = []\n",
        "            innermax = []\n",
        "            for j in i:\n",
        "                if j != '-':\n",
        "                    counter = i.count(j)\n",
        "                    innermax.append(counter)\n",
        "                    tur = (j, counter)\n",
        "                    innerresult.append(tur)\n",
        "            resulter.append(innerresult)\n",
        "            maxer.append(innermax)\n",
        "        result = []\n",
        "\n",
        "        for i in range(len(maxer)):\n",
        "            maximum = max(maxer[i])\n",
        "            ir = set()\n",
        "            for j in resulter[i]:\n",
        "                if (maximum == j[1]):\n",
        "                    ir.add(j[0])\n",
        "            result.append(ir)\n",
        "        maxerset = []\n",
        "        for i in maxer:\n",
        "            setter = set()\n",
        "            for j in i:\n",
        "                setter.add(j)\n",
        "            maxerset.append(setter)\n",
        "\n",
        "        lastlist = []\n",
        "        for i in range(len(maxerset)):\n",
        "            stp = ''\n",
        "            if (len(maxerset[i]) > 1):\n",
        "                for k in result[i]:\n",
        "                    stp = stp + k.lower()\n",
        "            else:\n",
        "                for k in result[i]:\n",
        "                    stp = stp + k.upper()\n",
        "            lastlist.append(stp)\n",
        "        print(\"\\n------------------The Result is----------------\\n\", lastlist)\n",
        "\n",
        "\n",
        "myseq = MultipleSeq()\n",
        "myseq.multipleSequenceAlignment()"
      ],
      "execution_count": 1,
      "outputs": [
        {
          "output_type": "stream",
          "name": "stdout",
          "text": [
            "How many number of sequence do you want (Enter Integer values) : 2\n",
            "Enter sequence 1 : AGTCGATCGATCG\n",
            "Enter sequence 2 : ACGATCGATGTGG\n",
            "After inserting gaps : \n",
            " [['A', 'G', 'T', 'C', 'G', 'A', 'T', 'C', 'G', 'A', 'T', 'C', 'G'], ['A', 'C', 'G', 'A', 'T', 'C', 'G', 'A', 'T', 'G', 'T', 'G', 'G']]\n",
            "\n",
            "Multiple Sequence Calculation\n",
            " [['A', 'A'], ['G', 'C'], ['T', 'G'], ['C', 'A'], ['G', 'T'], ['A', 'C'], ['T', 'G'], ['C', 'A'], ['G', 'T'], ['A', 'G'], ['T', 'T'], ['C', 'G'], ['G', 'G']]\n",
            "\n",
            "------------------The Result is----------------\n",
            " ['A', 'CG', 'GT', 'CA', 'GT', 'CA', 'GT', 'CA', 'GT', 'AG', 'T', 'CG', 'G']\n"
          ]
        }
      ]
    }
  ]
}