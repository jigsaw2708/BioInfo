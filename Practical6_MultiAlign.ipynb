{
  "nbformat": 4,
  "nbformat_minor": 0,
  "metadata": {
    "colab": {
      "name": "Practical6 MultiAlign.ipynb",
      "provenance": [],
      "authorship_tag": "ABX9TyMnMqDUrQQ6I+bVcJxTl0K0",
      "include_colab_link": true
    },
    "kernelspec": {
      "name": "python3",
      "display_name": "Python 3"
    },
    "language_info": {
      "name": "python"
    }
  },
  "cells": [
    {
      "cell_type": "markdown",
      "metadata": {
        "id": "view-in-github",
        "colab_type": "text"
      },
      "source": [
        "<a href=\"https://colab.research.google.com/github/jigsaw2708/BioInfo/blob/main/Practical6_MultiAlign.ipynb\" target=\"_parent\"><img src=\"https://colab.research.google.com/assets/colab-badge.svg\" alt=\"Open In Colab\"/></a>"
      ]
    },
    {
      "cell_type": "code",
      "execution_count": 1,
      "metadata": {
        "colab": {
          "base_uri": "https://localhost:8080/"
        },
        "id": "WVzO4IjTws8S",
        "outputId": "57d06304-6495-4c0b-e0e1-f92c3651839a"
      },
      "outputs": [
        {
          "output_type": "stream",
          "name": "stdout",
          "text": [
            "How many number of sequence do you want (Enter Integer values) : 2\n",
            "Enter sequence 1 : ATTGCAGTACGTAGTAC\n",
            "Enter sequence 2 : GTACAACGTGACGTAAG\n",
            "After inserting gaps : \n",
            " [['A', 'T', 'T', 'G', 'C', 'A', 'G', 'T', 'A', 'C', 'G', 'T', 'A', 'G', 'T', 'A', 'C'], ['G', 'T', 'A', 'C', 'A', 'A', 'C', 'G', 'T', 'G', 'A', 'C', 'G', 'T', 'A', 'A', 'G']]\n",
            "\n",
            "Multiple Sequence Calculation\n",
            " [['A', 'G'], ['T', 'T'], ['T', 'A'], ['G', 'C'], ['C', 'A'], ['A', 'A'], ['G', 'C'], ['T', 'G'], ['A', 'T'], ['C', 'G'], ['G', 'A'], ['T', 'C'], ['A', 'G'], ['G', 'T'], ['T', 'A'], ['A', 'A'], ['C', 'G']]\n",
            "\n",
            "------------------The Result is----------------\n",
            " ['GA', 'T', 'TA', 'GC', 'CA', 'A', 'GC', 'GT', 'TA', 'GC', 'GA', 'CT', 'GA', 'GT', 'TA', 'A', 'GC']\n"
          ]
        }
      ],
      "source": [
        "import random\n",
        "\n",
        "\n",
        "class MultipleSeq:\n",
        "    def __init__(self):\n",
        "        try:\n",
        "            howmany = int(input(\"How many number of sequence do you want (Enter Integer values) : \"))\n",
        "        except Exception as e:\n",
        "            print('\\n\\nError : ', e)\n",
        "        self.sequenceList = []\n",
        "        self.length = []\n",
        "        for i in range(1, howmany + 1):\n",
        "            seq = input(f'Enter sequence {i} : ').upper()  # Example : 'AOSLIE'\n",
        "            self.length.append(len(seq))\n",
        "            self.sequenceList.append([i for i in seq])\n",
        "\n",
        "    def gap(self):  # Insert gap\n",
        "        maxlength = max(self.length)\n",
        "        aftergapseq = []\n",
        "        for i in self.sequenceList:\n",
        "            if len(i) < maxlength:\n",
        "                difflength = maxlength - len(i)\n",
        "                for gapper in range(difflength):\n",
        "                    r = random.randrange(0, len(i), 1)\n",
        "                    i.insert(r, '-')\n",
        "                aftergapseq.append(i)\n",
        "            else:\n",
        "                aftergapseq.append(i)\n",
        "        print(\"After inserting gaps : \\n\", aftergapseq)\n",
        "        return aftergapseq\n",
        "\n",
        "    def multipleSequenceAlignment(self):\n",
        "        sequence = self.gap()\n",
        "        seq = []\n",
        "        for i in range(len(sequence[0])):\n",
        "            innerseq = []\n",
        "            for j in sequence:\n",
        "                innerseq.append(j[i])\n",
        "            seq.append(innerseq)\n",
        "        print(\"\\nMultiple Sequence Calculation\\n\", seq)\n",
        "        resulter = []\n",
        "        maxer = []\n",
        "        for i in seq:\n",
        "            innerresult = []\n",
        "            innermax = []\n",
        "            for j in i:\n",
        "                if j != '-':\n",
        "                    counter = i.count(j)\n",
        "                    innermax.append(counter)\n",
        "                    tur = (j, counter)\n",
        "                    innerresult.append(tur)\n",
        "            resulter.append(innerresult)\n",
        "            maxer.append(innermax)\n",
        "        result = []\n",
        "\n",
        "        for i in range(len(maxer)):\n",
        "            maximum = max(maxer[i])\n",
        "            ir = set()\n",
        "            for j in resulter[i]:\n",
        "                if (maximum == j[1]):\n",
        "                    ir.add(j[0])\n",
        "            result.append(ir)\n",
        "        maxerset = []\n",
        "        for i in maxer:\n",
        "            setter = set()\n",
        "            for j in i:\n",
        "                setter.add(j)\n",
        "            maxerset.append(setter)\n",
        "\n",
        "        lastlist = []\n",
        "        for i in range(len(maxerset)):\n",
        "            stp = ''\n",
        "            if (len(maxerset[i]) > 1):\n",
        "                for k in result[i]:\n",
        "                    stp = stp + k.lower()\n",
        "            else:\n",
        "                for k in result[i]:\n",
        "                    stp = stp + k.upper()\n",
        "            lastlist.append(stp)\n",
        "        print(\"\\n------------------The Result is----------------\\n\", lastlist)\n",
        "\n",
        "\n",
        "myseq = MultipleSeq()\n",
        "myseq.multipleSequenceAlignment()"
      ]
    }
  ]
}