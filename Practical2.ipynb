{
  "nbformat": 4,
  "nbformat_minor": 0,
  "metadata": {
    "colab": {
      "name": "Practical2.ipynb",
      "provenance": [],
      "authorship_tag": "ABX9TyNkSUrjfQ8lU90lN9Gb+qOp",
      "include_colab_link": true
    },
    "kernelspec": {
      "name": "python3",
      "display_name": "Python 3"
    },
    "language_info": {
      "name": "python"
    }
  },
  "cells": [
    {
      "cell_type": "markdown",
      "metadata": {
        "id": "view-in-github",
        "colab_type": "text"
      },
      "source": [
        "<a href=\"https://colab.research.google.com/github/jigsaw2708/BioInfo/blob/main/Practical2.ipynb\" target=\"_parent\"><img src=\"https://colab.research.google.com/assets/colab-badge.svg\" alt=\"Open In Colab\"/></a>"
      ]
    },
    {
      "cell_type": "code",
      "metadata": {
        "colab": {
          "base_uri": "https://localhost:8080/"
        },
        "id": "ES-0rRzxrZTd",
        "outputId": "30d9c27e-d0d0-4f65-b0e9-64511b6cc7dc"
      },
      "source": [
        "se1=input(\"Enter the first sequence::\")\n",
        "se2=input(\"Enter the second sequence::\")\n",
        "seq1=list(se1)\n",
        "seq2=list(se2)\n",
        "def find_identity(a,b):\n",
        "    gap(a,b)\n",
        "    print(a)\n",
        "    print(b)\n",
        "    score=0\n",
        "    length=len(a)\n",
        "    total_elements=len(a)*len(b)\n",
        "    for i in range(0,length):\n",
        "        for j in range(0,length):\n",
        "            if(a[i]==b[j]):\n",
        "                score=score+1\n",
        "    identity=(score/total_elements)*100\n",
        "    print(\"Matching Score::\",score)\n",
        "    print(\"Identity of the sequences::\",identity)\n",
        "def gap(a,b):\n",
        "    if(len(a)==len(b)):\n",
        "        print()\n",
        "    else:\n",
        "        k=int(input(\"enter the position to insert gap ::\"))\n",
        "        if (len(a)<len(b)):\n",
        "            a.insert(k,'-')\n",
        "        else:\n",
        "            b.insert(k,'-')\n",
        "    return(a,b)\n",
        "find_identity(seq1,seq2) "
      ],
      "execution_count": 6,
      "outputs": [
        {
          "output_type": "stream",
          "name": "stdout",
          "text": [
            "Enter the first sequence::AGCTGGATTCAGCTGAT\n",
            "Enter the second sequence::TTACGTAAGCCTAGCTC\n",
            "\n",
            "['A', 'G', 'C', 'T', 'G', 'G', 'A', 'T', 'T', 'C', 'A', 'G', 'C', 'T', 'G', 'A', 'T']\n",
            "['T', 'T', 'A', 'C', 'G', 'T', 'A', 'A', 'G', 'C', 'C', 'T', 'A', 'G', 'C', 'T', 'C']\n",
            "Matching Score:: 71\n",
            "Identity of the sequences:: 24.567474048442904\n"
          ]
        }
      ]
    }
  ]
}