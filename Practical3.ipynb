{
  "nbformat": 4,
  "nbformat_minor": 0,
  "metadata": {
    "colab": {
      "name": "Practical3.ipynb",
      "provenance": [],
      "authorship_tag": "ABX9TyO0eMNHA78AUUqZLPB+a/MO",
      "include_colab_link": true
    },
    "kernelspec": {
      "name": "python3",
      "display_name": "Python 3"
    },
    "language_info": {
      "name": "python"
    }
  },
  "cells": [
    {
      "cell_type": "markdown",
      "metadata": {
        "id": "view-in-github",
        "colab_type": "text"
      },
      "source": [
        "<a href=\"https://colab.research.google.com/github/jigsaw2708/BioInfo/blob/main/Practical3.ipynb\" target=\"_parent\"><img src=\"https://colab.research.google.com/assets/colab-badge.svg\" alt=\"Open In Colab\"/></a>"
      ]
    },
    {
      "cell_type": "code",
      "metadata": {
        "colab": {
          "base_uri": "https://localhost:8080/"
        },
        "id": "w7wqwPzXuh78",
        "outputId": "72fe9f0f-38ad-4dcd-eed3-cbe27bba27ee"
      },
      "source": [
        "sequence_one=input(\"Enter the first sequence: \")\n",
        "sequence_two=input(\"Enter the second sequence: \")\n",
        "how_many=int(input(\"How many elements for similarity condition?\"))\n",
        "similarities=[]\n",
        "for i in range(0,how_many):\n",
        "    a=input(\"Enter an element: \")\n",
        "    c=int(input(\"How many elements is it similar to? \"))\n",
        "    similarities.append([])\n",
        "    similarities[i].append(a)\n",
        "\n",
        "    for j in range(0,c):\n",
        "        b=input(\"What is it similar to? \")\n",
        "        similarities[i].append(b)\n",
        "def compare(o,t,s):\n",
        "  print(o)\n",
        "  print(t)\n",
        "  print(s)\n",
        " #checking if similar\n",
        "  score=0\n",
        "  for i in range(len(o)):\n",
        "    for j in range(len(s)):\n",
        "       if o[i] in s[j] and t[i] in s[j] and o[i] != t[i]:\n",
        "            score+=1\n",
        " #calculating similarity\n",
        "  similarity= (score*100)/len(o)\n",
        "  return similarity \n",
        "print(compare(list(sequence_one),list(sequence_two),similarities),\"%\") "
      ],
      "execution_count": 1,
      "outputs": [
        {
          "output_type": "stream",
          "name": "stdout",
          "text": [
            "Enter the first sequence: ATGCAATGCA\n",
            "Enter the second sequence: GGCTAGTCCA\n",
            "How many elements for similarity condition?2\n",
            "Enter an element: C\n",
            "How many elements is it similar to? 2\n",
            "What is it similar to? G\n",
            "What is it similar to? A\n",
            "Enter an element: T\n",
            "How many elements is it similar to? 2\n",
            "What is it similar to? C\n",
            "What is it similar to? G\n",
            "['A', 'T', 'G', 'C', 'A', 'A', 'T', 'G', 'C', 'A']\n",
            "['G', 'G', 'C', 'T', 'A', 'G', 'T', 'C', 'C', 'A']\n",
            "[['C', 'G', 'A'], ['T', 'C', 'G']]\n",
            "80.0 %\n"
          ]
        }
      ]
    }
  ]
}