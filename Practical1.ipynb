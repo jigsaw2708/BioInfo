{
  "nbformat": 4,
  "nbformat_minor": 0,
  "metadata": {
    "colab": {
      "name": "Practical1.ipynb",
      "provenance": [],
      "authorship_tag": "ABX9TyOioUi9yT4bwf38DQQmvv29",
      "include_colab_link": true
    },
    "kernelspec": {
      "name": "python3",
      "display_name": "Python 3"
    },
    "language_info": {
      "name": "python"
    }
  },
  "cells": [
    {
      "cell_type": "markdown",
      "metadata": {
        "id": "view-in-github",
        "colab_type": "text"
      },
      "source": [
        "<a href=\"https://colab.research.google.com/github/jigsaw2708/BioInfo/blob/main/Practical1.ipynb\" target=\"_parent\"><img src=\"https://colab.research.google.com/assets/colab-badge.svg\" alt=\"Open In Colab\"/></a>"
      ]
    },
    {
      "cell_type": "code",
      "metadata": {
        "colab": {
          "base_uri": "https://localhost:8080/"
        },
        "id": "Th9vhb9egQYK",
        "outputId": "088084ea-8099-41ce-e77f-6c79c261ec7f"
      },
      "source": [
        "se1=input(\"Enter the first sequence::\")\n",
        "se2=input(\"Enter the second sequence::\")\n",
        "seq1=list(se1)\n",
        "seq2=list(se2)\n",
        "score=[]\n",
        "def Pairwise_alignment(a,b):\n",
        " gap(a,b)\n",
        " print(a)\n",
        " print(b)\n",
        " value=0\n",
        " length=len(a)\n",
        " for i in range(0,length):\n",
        "  if(a[i ]== b[i]):\n",
        "    score.append('1')\n",
        "    value=value+1\n",
        "  else:\n",
        "    score.append('0')\n",
        " print(score)\n",
        " print(value)\n",
        "def gap(a,b):\n",
        " if(len(a)==len(b)):\n",
        "    print()\n",
        " else:\n",
        "    k=int(input(\"enter the position to insert::\"))\n",
        " if (len(a)<len(b)):\n",
        "    a.insert(k,'-')\n",
        " else:\n",
        "    b.insert(k,'-')\n",
        " return(a,b)\n",
        "Pairwise_alignment(seq1,seq2)"
      ],
      "execution_count": 10,
      "outputs": [
        {
          "output_type": "stream",
          "name": "stdout",
          "text": [
            "Enter the first sequence::ATGCATGTACTGATCAGATACAG\n",
            "Enter the second sequence::GGTACACACAGTGAACAGTGAC\n",
            "enter the position to insert::3\n",
            "['A', 'T', 'G', 'C', 'A', 'T', 'G', 'T', 'A', 'C', 'T', 'G', 'A', 'T', 'C', 'A', 'G', 'A', 'T', 'A', 'C', 'A', 'G']\n",
            "['G', 'G', 'T', '-', 'A', 'C', 'A', 'C', 'A', 'C', 'A', 'G', 'T', 'G', 'A', 'A', 'C', 'A', 'G', 'T', 'G', 'A', 'C']\n",
            "['0', '0', '0', '0', '1', '0', '0', '0', '1', '1', '0', '1', '0', '0', '0', '1', '0', '1', '0', '0', '0', '1', '0']\n",
            "7\n"
          ]
        }
      ]
    }
  ]
}